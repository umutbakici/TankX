{
 "cells": [
  {
   "cell_type": "code",
   "execution_count": 1,
   "id": "a47e0fb4",
   "metadata": {},
   "outputs": [
    {
     "name": "stderr",
     "output_type": "stream",
     "text": [
      "[SSL: CERTIFICATE_VERIFY_FAILED] certificate verify failed: self signed certificate in certificate chain (_ssl.c:1123) - goodbye\n",
      "error from callback <function on_close at 0x7fddc4c86670>: on_close() takes 1 positional argument but 3 were given\n"
     ]
    },
    {
     "name": "stdout",
     "output_type": "stream",
     "text": [
      "Error: [SSL: CERTIFICATE_VERIFY_FAILED] certificate verify failed: self signed certificate in certificate chain (_ssl.c:1123)\n",
      "Error: on_close() takes 1 positional argument but 3 were given\n"
     ]
    }
   ],
   "source": [
    "import websocket, json, pprint\n",
    "\n",
    "SOCKET = \"wss://stream.binance.com:9443/ws/dogeusdt@kline_1m\"\n",
    "\n",
    "def on_open(ws):\n",
    "    print('opened connection')\n",
    "\n",
    "\n",
    "def on_close(ws):\n",
    "    print('closed connection')\n",
    "\n",
    "\n",
    "def on_message(ws, message):\n",
    "    print('received message')\n",
    "    json_message = json.loads(message)\n",
    "    pprint.pprint(json_message)\n",
    "\n",
    "ws = websocket.WebSocketApp(SOCKET, on_open=on_open, on_close=on_close, on_message=on_message)\n",
    "ws.run_forever()"
   ]
  },
  {
   "cell_type": "code",
   "execution_count": null,
   "id": "86ec34cb",
   "metadata": {},
   "outputs": [],
   "source": []
  }
 ],
 "metadata": {
  "kernelspec": {
   "display_name": "Python 3 (ipykernel)",
   "language": "python",
   "name": "python3"
  },
  "language_info": {
   "codemirror_mode": {
    "name": "ipython",
    "version": 3
   },
   "file_extension": ".py",
   "mimetype": "text/x-python",
   "name": "python",
   "nbconvert_exporter": "python",
   "pygments_lexer": "ipython3",
   "version": "3.9.2"
  }
 },
 "nbformat": 4,
 "nbformat_minor": 5
}
